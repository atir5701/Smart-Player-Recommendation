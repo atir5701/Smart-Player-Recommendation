{
 "cells": [
  {
   "cell_type": "code",
   "execution_count": 112,
   "metadata": {
    "collapsed": true
   },
   "outputs": [],
   "source": [
    "import pandas as pd\n",
    "from tabulate import tabulate\n",
    "import numpy as np"
   ]
  },
  {
   "cell_type": "code",
   "execution_count": 74,
   "metadata": {},
   "outputs": [],
   "source": [
    "total_buget=int(input(\"Please Enter you budgets (values in Pounds) : \"))\n",
    "\n",
    "number_forwards = int(input(\"Please Enter the number of Forwards you want in Your team : \"))\n",
    "number_midfield = int(input(\"Please Enter the number of Midfielders you want in Your team : \"))\n",
    "number_defense = int(input(\"Please Enter the number of Defenders you want in Your team : \"))\n",
    "number_goalkeeper = int(input(\"Please Enter the number of Goalkeeper : \"))\n",
    "\n",
    "min_forward = int(input(\"Please Enter the Minimum Rating you want for Your Forwards : \"))\n",
    "min_midfield = int(input(\"Please Enter the Minimum Rating you want for Your Midfielders : \"))\n",
    "min_defense = int(input(\"Please Enter the Minimum Rating you want for Your Defenders : \"))\n",
    "min_goalkeeper = int(input(\"Please Enter the Minimum Rating you want for Your GoalKeepers : \"))\n",
    "\n",
    "k=3"
   ]
  },
  {
   "cell_type": "code",
   "execution_count": 93,
   "metadata": {},
   "outputs": [],
   "source": [
    "# budget split\n",
    "\n",
    "total = min_forward+min_midfield+min_defense+min_goalkeeper\n",
    "\n",
    "budget_forwards = round((min_forward/total) * total_buget,2)\n",
    "budget_midfield = round((min_midfield/total) * total_buget,2)\n",
    "budget_defense = round((min_defense/total) * total_buget,2)\n",
    "budget_goalkeeper = round((min_goalkeeper/total) * total_buget,2)"
   ]
  },
  {
   "cell_type": "code",
   "execution_count": 95,
   "metadata": {},
   "outputs": [],
   "source": [
    "# For Forwards \n",
    "goodfor = pd.read_csv('Good Forwards.csv')\n",
    "avgfor = pd.read_csv('Avg Forwards.csv')\n",
    "poorfor = pd.read_csv('Poor Forwards.csv')\n",
    "\n",
    "goodfor['Average'] = (goodfor['Overall']+goodfor['Potential'])/2\n",
    "goodfor.sort_values(by=['Average'],ascending=False)\n",
    "\n",
    "avgfor['Average'] = (avgfor['Overall']+avgfor['Potential'])/2\n",
    "avgfor.sort_values(by=['Average'],ascending=False)\n",
    "\n",
    "poorfor['Average'] = (poorfor['Overall']+poorfor['Potential'])/2\n",
    "poorfor.sort_values(by=['Average'],ascending=False)\n",
    "\n",
    "\n",
    "\n",
    "min_good = goodfor[\"Overall\"].min()\n",
    "min_avg = avgfor[\"Overall\"].min()\n",
    "min_poor = poorfor[\"Overall\"].min()\n",
    "\n",
    "\n",
    "if min_forward>=min_good:\n",
    "    playerfor=goodfor[(goodfor['Average']>=min_forward) & (goodfor['Value']<=budget_forwards)]\n",
    "elif min_forward>=min_avg:\n",
    "    playerfor= avgfor[(avgfor['Average']>=min_forward) & (avgfor['Value']<=budget_forwards)]\n",
    "else:\n",
    "    playerfor= poorfor[(poorfor['Average']>=min_forward) & (poorfor['Value']<=budget_forwards)]"
   ]
  },
  {
   "cell_type": "code",
   "execution_count": 96,
   "metadata": {
    "collapsed": false
   },
   "outputs": [
    {
     "data": {
      "text/plain": [
       "28"
      ]
     },
     "execution_count": 96,
     "metadata": {},
     "output_type": "execute_result"
    }
   ],
   "source": [
    "\n",
    "temp = []\n",
    "teams = []\n",
    "\n",
    "def get_team(curr, val, team):\n",
    "    if curr >= len(playerfor) or len(team)==number_forwards:\n",
    "        teams.append(list(team))\n",
    "        # print(teams)\n",
    "    else:\n",
    "\n",
    "        if val >= playerfor['Value'].iloc[curr]:\n",
    "            team.append(playerfor.iloc[curr, 2:10])\n",
    "            # print(team)\n",
    "            get_team(curr+1, val-playerfor['Value'].iloc[curr], team)\n",
    "            team.pop()\n",
    "        else:\n",
    "            get_team(curr+1,val,team)\n",
    "\n",
    "for i in range(len(playerfor)):\n",
    "    get_team(i, budget_forwards, temp)\n",
    "len(teams)"
   ]
  },
  {
   "cell_type": "code",
   "execution_count": 121,
   "metadata": {
    "collapsed": false
   },
   "outputs": [],
   "source": [
    "# recommend forwards \n",
    "preffered=[]\n",
    "for i in teams:\n",
    "    if len(i)==number_forwards:\n",
    "        preffered.append(i)\n",
    "top_forward=preffered[:k]\n",
    "\n"
   ]
  },
  {
   "cell_type": "code",
   "execution_count": 148,
   "metadata": {
    "collapsed": false
   },
   "outputs": [
    {
     "name": "stderr",
     "output_type": "stream",
     "text": [
      "C:\\Users\\hp\\AppData\\Local\\Temp\\ipykernel_152228\\1038591501.py:24: UserWarning: Boolean Series key will be reindexed to match DataFrame index.\n",
      "  playergoal=goodgoal[(goodgoal['Average']>=min_goalkeeper) & (goodfor['Value']<=budget_goalkeeper)]\n"
     ]
    }
   ],
   "source": [
    "# For Goalkeeper\n",
    "\n",
    "goodgoal = pd.read_csv('Good GoalKeeper.csv')\n",
    "avggoal = pd.read_csv('Avg GoalKeeper.csv')\n",
    "poorgoal = pd.read_csv('Poor GoalKeeper.csv')\n",
    "\n",
    "goodgoal['Average'] = (goodgoal['Overall']+goodgoal['Potential'])/2\n",
    "goodgoal.sort_values(by=['Average'],ascending=False)\n",
    "\n",
    "avggoal['Average'] = (avggoal['Overall']+avggoal['Potential'])/2\n",
    "avggoal.sort_values(by=['Average'],ascending=False)\n",
    "\n",
    "poorgoal['Average'] = (poorgoal['Overall']+poorgoal['Potential'])/2\n",
    "poorgoal.sort_values(by=['Average'],ascending=False)\n",
    "\n",
    "\n",
    "\n",
    "min_good = goodgoal[\"Overall\"].min()\n",
    "min_avg = avggoal[\"Overall\"].min()\n",
    "min_poor = poorgoal[\"Overall\"].min()\n",
    "\n",
    "\n",
    "if min_goalkeeper>=min_good:\n",
    "    playergoal=goodgoal[(goodgoal['Average']>=min_goalkeeper) & (goodfor['Value']<=budget_goalkeeper)]\n",
    "elif min_goalkeeper>=min_avg:\n",
    "    playergoal = avggoal[(avggoal['Average']>=min_goalkeeper) & (avgfor['Value']<=budget_goalkeeper)]\n",
    "else:\n",
    "    playergoal = poorgoal[(poorgoal['Average']>=min_goalkeeper) & (poorfor['Value']<=budget_goalkeeper)]"
   ]
  },
  {
   "cell_type": "code",
   "execution_count": 152,
   "metadata": {},
   "outputs": [
    {
     "data": {
      "text/plain": [
       "6"
      ]
     },
     "execution_count": 152,
     "metadata": {},
     "output_type": "execute_result"
    }
   ],
   "source": [
    "# to be changes number of goalkeeper remove kari deje AHIYA THI\n",
    "number_goalkeeper=2\n",
    "\n",
    "temp = []\n",
    "teams = []\n",
    "\n",
    "def get_team(curr, val, team):\n",
    "    if curr >= len(playergoal) or len(team)==number_goalkeeper:\n",
    "        teams.append(list(team))\n",
    "        # print(teams)\n",
    "    else:\n",
    "\n",
    "        if val >= playerfor['Value'].iloc[curr]:\n",
    "            team.append(playergoal.iloc[curr, 2:10])\n",
    "            # print(team)\n",
    "            get_team(curr+1, val-playergoal['Value'].iloc[curr], team)\n",
    "            team.pop()\n",
    "        else:\n",
    "            get_team(curr+1,val,team)\n",
    "\n",
    "for i in range(len(playergoal)):\n",
    "    get_team(i, budget_goalkeeper, temp)\n",
    "len(teams)"
   ]
  },
  {
   "cell_type": "code",
   "execution_count": 153,
   "metadata": {},
   "outputs": [
    {
     "data": {
      "text/plain": [
       "[[Name              Casillas\n",
       "  Age                     37\n",
       "  Nationality          Spain\n",
       "  Overall                 82\n",
       "  Potential               82\n",
       "  Club              FC Porto\n",
       "  Value               1500.0\n",
       "  Preferred Foot        Left\n",
       "  Name: 43, dtype: object,\n",
       "  Name                   T. Vaclík\n",
       "  Age                           29\n",
       "  Nationality       Czech Republic\n",
       "  Overall                       80\n",
       "  Potential                     81\n",
       "  Club                  Sevilla FC\n",
       "  Value                    11500.0\n",
       "  Preferred Foot             Right\n",
       "  Name: 53, dtype: object],\n",
       " [Name                      Guaita\n",
       "  Age                           31\n",
       "  Nationality                Spain\n",
       "  Overall                       80\n",
       "  Potential                     80\n",
       "  Club              Crystal Palace\n",
       "  Value                     9000.0\n",
       "  Preferred Foot             Right\n",
       "  Name: 57, dtype: object,\n",
       "  Name              A. Meret\n",
       "  Age                     21\n",
       "  Nationality          Italy\n",
       "  Overall                 75\n",
       "  Potential               89\n",
       "  Club                Napoli\n",
       "  Value              12000.0\n",
       "  Preferred Foot        Left\n",
       "  Name: 169, dtype: object]]"
      ]
     },
     "execution_count": 153,
     "metadata": {},
     "output_type": "execute_result"
    }
   ],
   "source": [
    "# recommend Goalkeeper\n",
    "\n",
    "preffered=[]\n",
    "for i in teams:\n",
    "    if len(i)==number_goalkeeper:\n",
    "        preffered.append(i)\n",
    "top_goalkeeper=preffered[:k]\n"
   ]
  },
  {
   "cell_type": "code",
   "execution_count": 126,
   "metadata": {},
   "outputs": [],
   "source": [
    "# For Midfielers\n",
    "goodmid = pd.read_csv('Good Midfielders.csv')\n",
    "avgmid = pd.read_csv('Avg Midfielders.csv')\n",
    "poormid = pd.read_csv('Poor Midfielders.csv')\n",
    "\n",
    "goodmid['Average'] = (goodmid['Overall']+goodmid['Potential'])/2\n",
    "goodmid.sort_values(by=['Average'],ascending=False)\n",
    "\n",
    "avgmid['Average'] = (avgmid['Overall']+avgmid['Potential'])/2\n",
    "avgmid.sort_values(by=['Average'],ascending=False)\n",
    "\n",
    "poormid['Average'] = (poormid['Overall']+poormid['Potential'])/2\n",
    "poormid.sort_values(by=['Average'],ascending=False)\n",
    "\n",
    "\n",
    "\n",
    "min_good = goodmid[\"Overall\"].min()\n",
    "min_avg = avgmid[\"Overall\"].min()\n",
    "min_poor = poormid[\"Overall\"].min()\n",
    "\n",
    "\n",
    "if min_midfield>=min_good:\n",
    "    playermid=goodmid[(goodmid['Average']>=min_midfield) & (goodmid['Value']<=budget_midfield)]\n",
    "elif min_forward>=min_avg:\n",
    "    playermid= avgmid[(avgmid['Average']>=min_midfield) & (avgmid['Value']<=budget_midfield)]\n",
    "else:\n",
    "    playermid= poormid[(poormid['Average']>=min_midfield) & (poormid['Value']<=budget_midfield)]\n"
   ]
  },
  {
   "cell_type": "code",
   "execution_count": 129,
   "metadata": {},
   "outputs": [],
   "source": [
    "temp = []\n",
    "teams = []\n",
    "\n",
    "def get_team(curr, val, team):\n",
    "    if curr >= len(playermid) or len(team)==number_midfield:\n",
    "        teams.append(list(team))\n",
    "        \n",
    "    else:\n",
    "\n",
    "        if val >= playermid['Value'].iloc[curr]:\n",
    "            team.append(playermid.iloc[curr, 2:10])\n",
    "            # print(team)\n",
    "            get_team(curr+1, val-playermid['Value'].iloc[curr], team)\n",
    "            team.pop()\n",
    "        else:\n",
    "            get_team(curr+1,val,team)\n",
    "\n",
    "for i in range(len(playermid)):\n",
    "    get_team(i, budget_midfield, temp)\n",
    "\n"
   ]
  },
  {
   "cell_type": "code",
   "execution_count": 130,
   "metadata": {},
   "outputs": [],
   "source": [
    "# recommend Midfield\n",
    "\n",
    "preffered=[]\n",
    "for i in teams:\n",
    "    if len(i)==number_midfield:\n",
    "        preffered.append(i)\n",
    "top_midfield=preffered[:k]"
   ]
  },
  {
   "cell_type": "code",
   "execution_count": 132,
   "metadata": {},
   "outputs": [],
   "source": [
    "# For Defenders\n",
    "\n",
    "gooddef = pd.read_csv('Good Defenders.csv')\n",
    "avgdef = pd.read_csv('Avg Defenders.csv')\n",
    "poordef = pd.read_csv('Poor Defenders.csv')\n",
    "\n",
    "gooddef['Average'] = (gooddef['Overall']+gooddef['Potential'])/2\n",
    "gooddef.sort_values(by=['Average'],ascending=False)\n",
    "\n",
    "avgdef['Average'] = (avgdef['Overall']+avgdef['Potential'])/2\n",
    "avgdef.sort_values(by=['Average'],ascending=False)\n",
    "\n",
    "poordef['Average'] = (poordef['Overall']+poordef['Potential'])/2\n",
    "poordef.sort_values(by=['Average'],ascending=False)\n",
    "\n",
    "\n",
    "\n",
    "min_good = gooddef[\"Overall\"].min()\n",
    "min_avg = avgdef[\"Overall\"].min()\n",
    "min_poor = poordef[\"Overall\"].min()\n",
    "\n",
    "\n",
    "if min_defense>=min_good:\n",
    "    playerdef=gooddef[(gooddef['Average']>=min_defense) & (gooddef['Value']<=budget_defense)]\n",
    "elif min_defense>=min_avg:\n",
    "    playerdef= avgdef[(avgdef['Average']>=min_defense) & (avgmid['Value']<=budget_defense)]\n",
    "else:\n",
    "    playerdef= poordef[(poordef['Average']>=min_defense) & (poormid['Value']<=budget_defense)]"
   ]
  },
  {
   "cell_type": "code",
   "execution_count": 133,
   "metadata": {},
   "outputs": [],
   "source": [
    "temp = []\n",
    "teams = []\n",
    "\n",
    "def get_team(curr, val, team):\n",
    "    if curr >= len(playerdef) or len(team)==number_midfield:\n",
    "        teams.append(list(team))\n",
    "        # print(teams)\n",
    "    else:\n",
    "\n",
    "        if val >= playerdef['Value'].iloc[curr]:\n",
    "            team.append(playerdef.iloc[curr, 2:10])\n",
    "            # print(team)\n",
    "            get_team(curr+1, val-playerdef['Value'].iloc[curr], team)\n",
    "            team.pop()\n",
    "        else:\n",
    "            get_team(curr+1,val,team)\n",
    "\n",
    "for i in range(len(playerdef)):\n",
    "    get_team(i, budget_defense, temp)\n"
   ]
  },
  {
   "cell_type": "code",
   "execution_count": 134,
   "metadata": {},
   "outputs": [],
   "source": [
    "# recommend Defenders\n",
    "k=2\n",
    "preffered=[]\n",
    "for i in teams:\n",
    "    if len(i)==number_defense:\n",
    "        preffered.append(i)\n",
    "top_defence=preffered[:k]\n"
   ]
  },
  {
   "cell_type": "code",
   "execution_count": 139,
   "metadata": {},
   "outputs": [],
   "source": [
    "k=2\n",
    "def display_top(top_k,n):\n",
    "    if len(top_k)==0:\n",
    "        print(\"Sorry No players available according to requirements\")\n",
    "        return\n",
    "    for i in range(k):\n",
    "        names=[]\n",
    "        age=[]\n",
    "        nationality=[]\n",
    "        rating=[]\n",
    "        club=[]\n",
    "        value=[]\n",
    "        foot=[]\n",
    "        dict={}\n",
    "        print(\"Option \"+str(i+1)+\":\")\n",
    "        print()\n",
    "        for j in range(n):\n",
    "            lst=[]\n",
    "            lst=list(top_k[i][j])\n",
    "            names.append(lst[0])\n",
    "            age.append(lst[1])\n",
    "            nationality.append(lst[2])\n",
    "            rating.append(np.mean([lst[3],lst[4]]))\n",
    "            club.append(lst[5])\n",
    "            value.append(lst[6])\n",
    "            foot.append(lst[7])\n",
    "        dict={'Name':names,'Age':age,'Nationality':nationality,'Rating':rating,'Club':club,'Value':value,'Preferred Foot':foot}\n",
    "        display=pd.DataFrame(dict)\n",
    "        print(tabulate(display,headers='keys',tablefmt='fancy_grid',showindex=False))\n",
    "        print()\n",
    "\n"
   ]
  },
  {
   "cell_type": "code",
   "execution_count": 140,
   "metadata": {},
   "outputs": [
    {
     "name": "stdout",
     "output_type": "stream",
     "text": [
      "Forwards \n",
      "Budgets of Forward : 18524.1\n",
      "Numbers of Forward Needed :  2\n",
      "Minimum Rating Needed :  82\n",
      "Option 1:\n",
      "\n",
      "╒════════╤═══════╤═══════════════╤══════════╤═══════════════╤═════════╤══════════════════╕\n",
      "│ Name   │   Age │ Nationality   │   Rating │ Club          │   Value │ Preferred Foot   │\n",
      "╞════════╪═══════╪═══════════════╪══════════╪═══════════════╪═════════╪══════════════════╡\n",
      "│ Naldo  │    35 │ Brazil        │       85 │ FC Schalke 04 │    9000 │ Right            │\n",
      "├────────┼───────┼───────────────┼──────────┼───────────────┼─────────┼──────────────────┤\n",
      "│ Pepe   │    35 │ Portugal      │       85 │ Beşiktaş JK   │    9000 │ Right            │\n",
      "╘════════╧═══════╧═══════════════╧══════════╧═══════════════╧═════════╧══════════════════╛\n",
      "\n",
      "Option 2:\n",
      "\n",
      "╒═════════════╤═══════╤═══════════════╤══════════╤═════════════╤═════════╤══════════════════╕\n",
      "│ Name        │   Age │ Nationality   │   Rating │ Club        │   Value │ Preferred Foot   │\n",
      "╞═════════════╪═══════╪═══════════════╪══════════╪═════════════╪═════════╪══════════════════╡\n",
      "│ Pepe        │    35 │ Portugal      │       85 │ Beşiktaş JK │    9000 │ Right            │\n",
      "├─────────────┼───────┼───────────────┼──────────┼─────────────┼─────────┼──────────────────┤\n",
      "│ A. Barzagli │    37 │ Italy         │       84 │ Juventus    │    4200 │ Right            │\n",
      "╘═════════════╧═══════╧═══════════════╧══════════╧═════════════╧═════════╧══════════════════╛\n",
      "\n"
     ]
    }
   ],
   "source": [
    "print(\"Forwards \")\n",
    "print(\"Budgets of Forward :\" ,budget_forwards)\n",
    "print(\"Numbers of Forward Needed : \",number_forwards)\n",
    "print(\"Minimum Rating Needed : \",min_forward)\n",
    "display_top(top_forward,number_forwards)"
   ]
  },
  {
   "cell_type": "code",
   "execution_count": 141,
   "metadata": {},
   "outputs": [
    {
     "name": "stdout",
     "output_type": "stream",
     "text": [
      "MidFielders \n",
      "Budget of MidFielders :  19653.61\n",
      "Numbers of MidFielders needed :  3\n",
      "Minimum Rating Neede :  87\n",
      "Sorry No players available according to requirements\n"
     ]
    }
   ],
   "source": [
    "print(\"MidFielders \")\n",
    "print(\"Budget of MidFielders : \",budget_midfield)\n",
    "print(\"Numbers of MidFielders needed : \",number_midfield)\n",
    "print(\"Minimum Rating Needed : \",min_midfield)\n",
    "display_top(top_midfield,number_midfield)"
   ]
  },
  {
   "cell_type": "code",
   "execution_count": 142,
   "metadata": {},
   "outputs": [
    {
     "name": "stdout",
     "output_type": "stream",
     "text": [
      "Defenders\n",
      "Budget of Defenders :  18750.0\n",
      "Numbers of Defenders needed :  1\n",
      "Minimum Rating Needed :  83\n",
      "Option 1:\n",
      "\n",
      "╒═════════╤═══════╤═══════════════╤══════════╤════════╤═════════╤══════════════════╕\n",
      "│ Name    │   Age │ Nationality   │   Rating │ Club   │   Value │ Preferred Foot   │\n",
      "╞═════════╪═══════╪═══════════════╪══════════╪════════╪═════════╪══════════════════╡\n",
      "│ Miranda │    33 │ Brazil        │       85 │ Inter  │   15500 │ Right            │\n",
      "╘═════════╧═══════╧═══════════════╧══════════╧════════╧═════════╧══════════════════╛\n",
      "\n",
      "Option 2:\n",
      "\n",
      "╒═════════════╤═══════╤═══════════════╤══════════╤════════╤═════════╤══════════════════╕\n",
      "│ Name        │   Age │ Nationality   │   Rating │ Club   │   Value │ Preferred Foot   │\n",
      "╞═════════════╪═══════╪═══════════════╪══════════╪════════╪═════════╪══════════════════╡\n",
      "│ Raúl Albiol │    32 │ Spain         │       84 │ Napoli │   18000 │ Right            │\n",
      "╘═════════════╧═══════╧═══════════════╧══════════╧════════╧═════════╧══════════════════╛\n",
      "\n"
     ]
    }
   ],
   "source": [
    "print(\"Defenders\")\n",
    "print(\"Budget of Defenders : \",budget_defense)\n",
    "print(\"Numbers of Defenders needed : \",number_defense)\n",
    "print(\"Minimum Rating Needed : \",min_defense)\n",
    "display_top(top_defence,number_defense)"
   ]
  },
  {
   "cell_type": "code",
   "execution_count": 155,
   "metadata": {},
   "outputs": [
    {
     "name": "stdout",
     "output_type": "stream",
     "text": [
      "GoalKeeper\n",
      "Budget of Goalkeeper :  18072.29\n",
      "Numbers of Goalkeeper needed :  2\n",
      "Minimum Rating Needed :  80\n",
      "Option 1:\n",
      "\n",
      "╒═══════════╤═══════╤════════════════╤══════════╤════════════╤═════════╤══════════════════╕\n",
      "│ Name      │   Age │ Nationality    │   Rating │ Club       │   Value │ Preferred Foot   │\n",
      "╞═══════════╪═══════╪════════════════╪══════════╪════════════╪═════════╪══════════════════╡\n",
      "│ Casillas  │    37 │ Spain          │     82   │ FC Porto   │    1500 │ Left             │\n",
      "├───────────┼───────┼────────────────┼──────────┼────────────┼─────────┼──────────────────┤\n",
      "│ T. Vaclík │    29 │ Czech Republic │     80.5 │ Sevilla FC │   11500 │ Right            │\n",
      "╘═══════════╧═══════╧════════════════╧══════════╧════════════╧═════════╧══════════════════╛\n",
      "\n",
      "Option 2:\n",
      "\n",
      "╒══════════╤═══════╤═══════════════╤══════════╤════════════════╤═════════╤══════════════════╕\n",
      "│ Name     │   Age │ Nationality   │   Rating │ Club           │   Value │ Preferred Foot   │\n",
      "╞══════════╪═══════╪═══════════════╪══════════╪════════════════╪═════════╪══════════════════╡\n",
      "│ Guaita   │    31 │ Spain         │       80 │ Crystal Palace │    9000 │ Right            │\n",
      "├──────────┼───────┼───────────────┼──────────┼────────────────┼─────────┼──────────────────┤\n",
      "│ A. Meret │    21 │ Italy         │       82 │ Napoli         │   12000 │ Left             │\n",
      "╘══════════╧═══════╧═══════════════╧══════════╧════════════════╧═════════╧══════════════════╛\n",
      "\n"
     ]
    }
   ],
   "source": [
    "print(\"GoalKeeper\")\n",
    "print(\"Budget of Goalkeeper : \",budget_goalkeeper)\n",
    "print(\"Numbers of Goalkeeper needed : \",number_goalkeeper)\n",
    "print(\"Minimum Rating Needed : \",min_goalkeeper)\n",
    "display_top(top_goalkeeper,number_goalkeeper)"
   ]
  }
 ],
 "metadata": {
  "kernelspec": {
   "display_name": "Python 3",
   "language": "python",
   "name": "python3"
  },
  "language_info": {
   "codemirror_mode": {
    "name": "ipython",
    "version": 3
   },
   "file_extension": ".py",
   "mimetype": "text/x-python",
   "name": "python",
   "nbconvert_exporter": "python",
   "pygments_lexer": "ipython3",
   "version": "3.10.2"
  }
 },
 "nbformat": 4,
 "nbformat_minor": 0
}
