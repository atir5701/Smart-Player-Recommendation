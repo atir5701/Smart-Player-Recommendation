{
 "cells": [
  {
   "cell_type": "code",
   "execution_count": 1,
   "metadata": {},
   "outputs": [],
   "source": [
    "import pandas as pd"
   ]
  },
  {
   "cell_type": "code",
   "execution_count": 31,
   "metadata": {},
   "outputs": [
    {
     "data": {
      "text/plain": [
       "[['GK', 881]]"
      ]
     },
     "execution_count": 31,
     "metadata": {},
     "output_type": "execute_result"
    }
   ],
   "source": [
    "t1=pd.read_csv(\"Poor Goalkeeper.csv\")\n",
    "temp=t1['Position'].unique()\n",
    "t=[]\n",
    "\n",
    "for i in temp:\n",
    "    count=0\n",
    "    for j in range(len(t1)):\n",
    "        if t1.iloc[j,10]==i:\n",
    "            count+=1\n",
    "    t.append([i,count])\n",
    "t"
   ]
  },
  {
   "attachments": {},
   "cell_type": "markdown",
   "metadata": {},
   "source": [
    "Class ->\n",
    "                Actuall        False\n",
    "Defender ->     1213           Mid (219) \n",
    "Mid->           1024             Def (550) , For(72)\n",
    "For ->          909            Mid(715)  , Def (5)\n",
    "Gk->            881              - "
   ]
  },
  {
   "cell_type": "markdown",
   "metadata": {},
   "source": []
  }
 ],
 "metadata": {
  "kernelspec": {
   "display_name": "Python 3",
   "language": "python",
   "name": "python3"
  },
  "language_info": {
   "codemirror_mode": {
    "name": "ipython",
    "version": 3
   },
   "file_extension": ".py",
   "mimetype": "text/x-python",
   "name": "python",
   "nbconvert_exporter": "python",
   "pygments_lexer": "ipython3",
   "version": "3.10.2"
  },
  "orig_nbformat": 4
 },
 "nbformat": 4,
 "nbformat_minor": 2
}
